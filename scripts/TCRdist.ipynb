{
  "nbformat": 4,
  "nbformat_minor": 0,
  "metadata": {
    "colab": {
      "provenance": []
    },
    "kernelspec": {
      "name": "python3",
      "display_name": "Python 3"
    },
    "language_info": {
      "name": "python"
    }
  },
  "cells": [
    {
      "cell_type": "markdown",
      "source": [
        "## Install/load libraries\n",
        "\n",
        "Notebook utilises tcrdist to generate a tcr specific distance matrix for each chain of the TCRs input into this. See the link below for full documentation.\n",
        "\n",
        "https://tcrdist3.readthedocs.io/en/latest/tcrdistances.html\n",
        "\n",
        "To use this notebook:\n",
        "1. Upload the files from outputs/{CHAIN}/*.csv to the session (can drag and drop from Finder.\n",
        "2. Create a folder to hold the output, using in a new code block ```! mkdir tcrdist```\n",
        "3. Run the install chunk, then the chunk for either alpha or beta chain\n",
        "4. Download the zipped results file (semi-automated, will need to allow on the first go in the session).\n",
        "5. If running both chains, remove all files (except the pre-loaded 'sample_data' folder), including tcrdist results folder, and run steps 3-4 again."
      ],
      "metadata": {
        "id": "WODdPdso77uD"
      }
    },
    {
      "cell_type": "code",
      "source": [
        "!pip install tcrdist3\n",
        "\n",
        "import pandas as pd\n",
        "from tcrdist.pgen import OlgaModel\n",
        "from tcrdist import mappers\n",
        "from tcrdist.repertoire import TCRrep\n",
        "from tcrdist.public import TCRpublic\n",
        "from tcrdist.setup_tests import download_and_extract_zip_file\n",
        "\n",
        "import re\n",
        "import os\n",
        "\n",
        "from google.colab import files"
      ],
      "metadata": {
        "colab": {
          "base_uri": "https://localhost:8080/"
        },
        "id": "Lq9N1TkHmYl7",
        "outputId": "5bd8afd0-66a2-4680-c0ff-39797119a0a1"
      },
      "execution_count": null,
      "outputs": [
        {
          "output_type": "stream",
          "name": "stdout",
          "text": [
            "Collecting tcrdist3\n",
            "  Downloading tcrdist3-0.3-py3-none-any.whl.metadata (5.7 kB)\n",
            "Requirement already satisfied: pandas>=0.24.2 in /usr/local/lib/python3.12/dist-packages (from tcrdist3) (2.2.2)\n",
            "Requirement already satisfied: numpy>=1.16.4 in /usr/local/lib/python3.12/dist-packages (from tcrdist3) (2.0.2)\n",
            "Collecting parasail>=1.1.17 (from tcrdist3)\n",
            "  Downloading parasail-1.3.4-py2.py3-none-manylinux_2_17_x86_64.manylinux2014_x86_64.whl.metadata (21 kB)\n",
            "Requirement already satisfied: scipy>=1.4.1 in /usr/local/lib/python3.12/dist-packages (from tcrdist3) (1.16.1)\n",
            "Collecting pwseqdist>=0.6 (from tcrdist3)\n",
            "  Downloading pwseqdist-0.6-py3-none-any.whl.metadata (1.8 kB)\n",
            "Requirement already satisfied: numba in /usr/local/lib/python3.12/dist-packages (from tcrdist3) (0.60.0)\n",
            "Collecting zipdist>=0.1.5 (from tcrdist3)\n",
            "  Downloading zipdist-0.1.5-py3-none-any.whl.metadata (3.8 kB)\n",
            "Collecting fishersapi (from tcrdist3)\n",
            "  Downloading fishersapi-1.0-py3-none-any.whl.metadata (2.5 kB)\n",
            "Collecting hierdiff>=0.4 (from tcrdist3)\n",
            "  Downloading hierdiff-0.85-py3-none-any.whl.metadata (2.4 kB)\n",
            "Collecting palmotif>=0.2 (from tcrdist3)\n",
            "  Downloading palmotif-0.4-py3-none-any.whl.metadata (602 bytes)\n",
            "Collecting tcrsampler>=0.1.9 (from tcrdist3)\n",
            "  Downloading tcrsampler-0.1.9-py3-none-any.whl.metadata (1.6 kB)\n",
            "Collecting parmap>=1.5.2 (from tcrdist3)\n",
            "  Downloading parmap-1.7.0-py2.py3-none-any.whl.metadata (9.3 kB)\n",
            "Collecting olga>=1.2.1 (from tcrdist3)\n",
            "  Downloading olga-1.2.4-py3-none-any.whl.metadata (856 bytes)\n",
            "Requirement already satisfied: dill>=0.3.2 in /usr/local/lib/python3.12/dist-packages (from tcrdist3) (0.3.8)\n",
            "Requirement already satisfied: jinja2>=2.10.1 in /usr/local/lib/python3.12/dist-packages (from hierdiff>=0.4->tcrdist3) (3.1.6)\n",
            "Requirement already satisfied: statsmodels>=0.10 in /usr/local/lib/python3.12/dist-packages (from hierdiff>=0.4->tcrdist3) (0.14.5)\n",
            "Requirement already satisfied: joblib>=0.16 in /usr/local/lib/python3.12/dist-packages (from hierdiff>=0.4->tcrdist3) (1.5.1)\n",
            "Requirement already satisfied: matplotlib in /usr/local/lib/python3.12/dist-packages (from palmotif>=0.2->tcrdist3) (3.10.0)\n",
            "Collecting svgwrite (from palmotif>=0.2->tcrdist3)\n",
            "  Downloading svgwrite-1.4.3-py3-none-any.whl.metadata (8.8 kB)\n",
            "Requirement already satisfied: python-dateutil>=2.8.2 in /usr/local/lib/python3.12/dist-packages (from pandas>=0.24.2->tcrdist3) (2.9.0.post0)\n",
            "Requirement already satisfied: pytz>=2020.1 in /usr/local/lib/python3.12/dist-packages (from pandas>=0.24.2->tcrdist3) (2025.2)\n",
            "Requirement already satisfied: tzdata>=2022.7 in /usr/local/lib/python3.12/dist-packages (from pandas>=0.24.2->tcrdist3) (2025.2)\n",
            "Collecting progress>=1.5 (from tcrsampler>=0.1.9->tcrdist3)\n",
            "  Downloading progress-1.6.1-py3-none-any.whl.metadata (4.3 kB)\n",
            "Collecting feather-format>=0.4.1 (from zipdist>=0.1.5->tcrdist3)\n",
            "  Downloading feather-format-0.4.1.tar.gz (3.2 kB)\n",
            "  Preparing metadata (setup.py) ... \u001b[?25l\u001b[?25hdone\n",
            "Requirement already satisfied: llvmlite<0.44,>=0.43.0dev0 in /usr/local/lib/python3.12/dist-packages (from numba->tcrdist3) (0.43.0)\n",
            "Requirement already satisfied: pyarrow>=0.4.0 in /usr/local/lib/python3.12/dist-packages (from feather-format>=0.4.1->zipdist>=0.1.5->tcrdist3) (18.1.0)\n",
            "Requirement already satisfied: MarkupSafe>=2.0 in /usr/local/lib/python3.12/dist-packages (from jinja2>=2.10.1->hierdiff>=0.4->tcrdist3) (3.0.2)\n",
            "Requirement already satisfied: six>=1.5 in /usr/local/lib/python3.12/dist-packages (from python-dateutil>=2.8.2->pandas>=0.24.2->tcrdist3) (1.17.0)\n",
            "Requirement already satisfied: patsy>=0.5.6 in /usr/local/lib/python3.12/dist-packages (from statsmodels>=0.10->hierdiff>=0.4->tcrdist3) (1.0.1)\n",
            "Requirement already satisfied: packaging>=21.3 in /usr/local/lib/python3.12/dist-packages (from statsmodels>=0.10->hierdiff>=0.4->tcrdist3) (25.0)\n",
            "Requirement already satisfied: contourpy>=1.0.1 in /usr/local/lib/python3.12/dist-packages (from matplotlib->palmotif>=0.2->tcrdist3) (1.3.3)\n",
            "Requirement already satisfied: cycler>=0.10 in /usr/local/lib/python3.12/dist-packages (from matplotlib->palmotif>=0.2->tcrdist3) (0.12.1)\n",
            "Requirement already satisfied: fonttools>=4.22.0 in /usr/local/lib/python3.12/dist-packages (from matplotlib->palmotif>=0.2->tcrdist3) (4.59.1)\n",
            "Requirement already satisfied: kiwisolver>=1.3.1 in /usr/local/lib/python3.12/dist-packages (from matplotlib->palmotif>=0.2->tcrdist3) (1.4.9)\n",
            "Requirement already satisfied: pillow>=8 in /usr/local/lib/python3.12/dist-packages (from matplotlib->palmotif>=0.2->tcrdist3) (11.3.0)\n",
            "Requirement already satisfied: pyparsing>=2.3.1 in /usr/local/lib/python3.12/dist-packages (from matplotlib->palmotif>=0.2->tcrdist3) (3.2.3)\n",
            "Downloading tcrdist3-0.3-py3-none-any.whl (2.5 MB)\n",
            "\u001b[2K   \u001b[90m━━━━━━━━━━━━━━━━━━━━━━━━━━━━━━━━━━━━━━━━\u001b[0m \u001b[32m2.5/2.5 MB\u001b[0m \u001b[31m29.8 MB/s\u001b[0m eta \u001b[36m0:00:00\u001b[0m\n",
            "\u001b[?25hDownloading hierdiff-0.85-py3-none-any.whl (27 kB)\n",
            "Downloading fishersapi-1.0-py3-none-any.whl (14 kB)\n",
            "Downloading olga-1.2.4-py3-none-any.whl (366 kB)\n",
            "\u001b[2K   \u001b[90m━━━━━━━━━━━━━━━━━━━━━━━━━━━━━━━━━━━━━━━━\u001b[0m \u001b[32m366.4/366.4 kB\u001b[0m \u001b[31m27.7 MB/s\u001b[0m eta \u001b[36m0:00:00\u001b[0m\n",
            "\u001b[?25hDownloading palmotif-0.4-py3-none-any.whl (20 kB)\n",
            "Downloading parasail-1.3.4-py2.py3-none-manylinux_2_17_x86_64.manylinux2014_x86_64.whl (15.6 MB)\n",
            "\u001b[2K   \u001b[90m━━━━━━━━━━━━━━━━━━━━━━━━━━━━━━━━━━━━━━━━\u001b[0m \u001b[32m15.6/15.6 MB\u001b[0m \u001b[31m88.0 MB/s\u001b[0m eta \u001b[36m0:00:00\u001b[0m\n",
            "\u001b[?25hDownloading parmap-1.7.0-py2.py3-none-any.whl (32 kB)\n",
            "Downloading pwseqdist-0.6-py3-none-any.whl (29 kB)\n",
            "Downloading tcrsampler-0.1.9-py3-none-any.whl (438 kB)\n",
            "\u001b[2K   \u001b[90m━━━━━━━━━━━━━━━━━━━━━━━━━━━━━━━━━━━━━━━━\u001b[0m \u001b[32m438.1/438.1 kB\u001b[0m \u001b[31m29.6 MB/s\u001b[0m eta \u001b[36m0:00:00\u001b[0m\n",
            "\u001b[?25hDownloading zipdist-0.1.5-py3-none-any.whl (18 kB)\n",
            "Downloading progress-1.6.1-py3-none-any.whl (9.8 kB)\n",
            "Downloading svgwrite-1.4.3-py3-none-any.whl (67 kB)\n",
            "\u001b[2K   \u001b[90m━━━━━━━━━━━━━━━━━━━━━━━━━━━━━━━━━━━━━━━━\u001b[0m \u001b[32m67.1/67.1 kB\u001b[0m \u001b[31m5.6 MB/s\u001b[0m eta \u001b[36m0:00:00\u001b[0m\n",
            "\u001b[?25hBuilding wheels for collected packages: feather-format\n",
            "  Building wheel for feather-format (setup.py) ... \u001b[?25l\u001b[?25hdone\n",
            "  Created wheel for feather-format: filename=feather_format-0.4.1-py3-none-any.whl size=2434 sha256=3a5b30db430c851a06593a38a69ead4e685c3e9cf2843885990f7183f4482383\n",
            "  Stored in directory: /root/.cache/pip/wheels/dd/02/6b/2f0f7e1c0454094c880e63076da142e67f1ba72f82baa6195f\n",
            "Successfully built feather-format\n",
            "Installing collected packages: parmap, olga, svgwrite, progress, parasail, feather-format, zipdist, tcrsampler, pwseqdist, palmotif, fishersapi, hierdiff, tcrdist3\n",
            "Successfully installed feather-format-0.4.1 fishersapi-1.0 hierdiff-0.85 olga-1.2.4 palmotif-0.4 parasail-1.3.4 parmap-1.7.0 progress-1.6.1 pwseqdist-0.6 svgwrite-1.4.3 tcrdist3-0.3 tcrsampler-0.1.9 zipdist-0.1.5\n"
          ]
        }
      ]
    },
    {
      "cell_type": "markdown",
      "source": [
        "## Run beta chains through this code block"
      ],
      "metadata": {
        "id": "KRqogtG07vDq"
      }
    },
    {
      "cell_type": "code",
      "execution_count": null,
      "metadata": {
        "id": "AW2OOHI7mNp_",
        "colab": {
          "base_uri": "https://localhost:8080/",
          "height": 190
        },
        "outputId": "55736019-e3c4-445d-b5bc-cfa082db284b"
      },
      "outputs": [
        {
          "output_type": "stream",
          "name": "stderr",
          "text": [
            "/usr/local/lib/python3.12/dist-packages/tcrdist/repertoire.py:159: UserWarning: cell_df needs a counts column to track clonal number of frequency\n",
            "\n",
            "  self._validate_cell_df()\n",
            "/usr/local/lib/python3.12/dist-packages/tcrdist/repertoire.py:791: UserWarning: No 'count' column provided; count column set to 1\n",
            "  warnings.warn(\"No 'count' column provided; count column set to 1\")\n"
          ]
        },
        {
          "output_type": "stream",
          "name": "stdout",
          "text": [
            "tcrdist/\n",
            "tcrdist/.ipynb_checkpoints/\n",
            "tcrdist/0_complete-data_tcrdistmatrix.csv\n",
            "tcrdist/0_complete-data_pgens.csv\n"
          ]
        },
        {
          "output_type": "display_data",
          "data": {
            "text/plain": [
              "<IPython.core.display.Javascript object>"
            ],
            "application/javascript": [
              "\n",
              "    async function download(id, filename, size) {\n",
              "      if (!google.colab.kernel.accessAllowed) {\n",
              "        return;\n",
              "      }\n",
              "      const div = document.createElement('div');\n",
              "      const label = document.createElement('label');\n",
              "      label.textContent = `Downloading \"${filename}\": `;\n",
              "      div.appendChild(label);\n",
              "      const progress = document.createElement('progress');\n",
              "      progress.max = size;\n",
              "      div.appendChild(progress);\n",
              "      document.body.appendChild(div);\n",
              "\n",
              "      const buffers = [];\n",
              "      let downloaded = 0;\n",
              "\n",
              "      const channel = await google.colab.kernel.comms.open(id);\n",
              "      // Send a message to notify the kernel that we're ready.\n",
              "      channel.send({})\n",
              "\n",
              "      for await (const message of channel.messages) {\n",
              "        // Send a message to notify the kernel that we're ready.\n",
              "        channel.send({})\n",
              "        if (message.buffers) {\n",
              "          for (const buffer of message.buffers) {\n",
              "            buffers.push(buffer);\n",
              "            downloaded += buffer.byteLength;\n",
              "            progress.value = downloaded;\n",
              "          }\n",
              "        }\n",
              "      }\n",
              "      const blob = new Blob(buffers, {type: 'application/binary'});\n",
              "      const a = document.createElement('a');\n",
              "      a.href = window.URL.createObjectURL(blob);\n",
              "      a.download = filename;\n",
              "      div.appendChild(a);\n",
              "      a.click();\n",
              "      div.remove();\n",
              "    }\n",
              "  "
            ]
          },
          "metadata": {}
        },
        {
          "output_type": "display_data",
          "data": {
            "text/plain": [
              "<IPython.core.display.Javascript object>"
            ],
            "application/javascript": [
              "download(\"download_3f30cb14-351a-427a-9363-fd7a13d0ceac\", \"tcrdist.tar.gz\", 34368205)"
            ]
          },
          "metadata": {}
        }
      ],
      "source": [
        "file_ = [i for i in os.listdir() if re.search('.csv', i)]\n",
        "for i in file_:\n",
        "  df = pd.read_csv(i)\n",
        "\n",
        "  df = df.rename(columns = {'v_call': 'v_b_gene',\n",
        "                            'j_call': 'j_b_gene',\n",
        "                            'junction_aa': 'cdr3_b_aa'})\n",
        "\n",
        "  df['v_b_gene'] = [f'{i}*01' for i in df['v_b_gene']] # append fake allele for TCRdist, doesn't recognise decomb ids without alleles\n",
        "  df['j_b_gene'] = [f'{i}*01' for i in df['j_b_gene']] # append fake allele for TCRdist, doesn't recognise decomb ids without alleles\n",
        "\n",
        "  tr = TCRrep(cell_df = df,\n",
        "              organism = 'mouse',\n",
        "              chains = ['beta'],\n",
        "              db_file = 'alphabeta_gammadelta_db.tsv',\n",
        "              store_all_cdr = False)\n",
        "\n",
        "  olga_beta  = OlgaModel(chain_folder = \"mouse_T_beta\", recomb_type=\"VDJ\")\n",
        "\n",
        "  tr.clone_df['pgen_cdr3_b_aa'] = olga_beta.compute_aa_cdr3_pgens(CDR3_seq = tr.clone_df.cdr3_b_aa)\n",
        "\n",
        "  tr.clone_df.to_csv(f\"tcrdist/{re.sub('.csv', '', i)}_pgens.csv\", index = False)\n",
        "\n",
        "  tmp = pd.DataFrame(tr.pw_beta)\n",
        "  tmp.columns = tr.clone_df.id_nt.to_list()\n",
        "\n",
        "  tmp.to_csv(f\"tcrdist/{re.sub('.csv', '', i)}_tcrdistmatrix.csv\", index = True, compression = 'gzip')\n",
        "\n",
        "!tar -czvf tcrdist.tar.gz tcrdist\n",
        "files.download(\"/content/tcrdist.tar.gz\")"
      ]
    },
    {
      "cell_type": "markdown",
      "source": [
        "## Run alpha chains through this code block"
      ],
      "metadata": {
        "id": "NLXWweIv70Fm"
      }
    },
    {
      "cell_type": "code",
      "source": [
        "file_ = [i for i in os.listdir() if re.search('.csv', i)]\n",
        "for i in file_:\n",
        "  df = pd.read_csv(i)\n",
        "\n",
        "  df = df.rename(columns = {'v_call': 'v_a_gene',\n",
        "                            'j_call': 'j_a_gene',\n",
        "                            'junction_aa': 'cdr3_a_aa'})\n",
        "\n",
        "  df['v_a_gene'] = [f'{i}*01' for i in df['v_a_gene']] # append fake allele for TCRdist, doesn't recognise decomb id without alleles\n",
        "  df['j_a_gene'] = [f'{i}*01' for i in df['j_a_gene']] # append fake allele for TCRdist, doesn't recognise decomb id without alleles\n",
        "\n",
        "  tr = TCRrep(cell_df = df,\n",
        "              organism = 'mouse',\n",
        "              chains = ['alpha'],\n",
        "              db_file = 'alphabeta_gammadelta_db.tsv',\n",
        "              store_all_cdr = False)\n",
        "\n",
        "  olga_beta  = OlgaModel(chain_folder = \"mouse_T_alpha\", recomb_type=\"VJ\")\n",
        "\n",
        "  tr.clone_df['pgen_cdr3_a_aa'] = olga_beta.compute_aa_cdr3_pgens(CDR3_seq = tr.clone_df.cdr3_a_aa)\n",
        "\n",
        "  tr.clone_df.to_csv(f\"tcrdist/{re.sub('.csv', '', i)}_pgens.csv\", index = False)\n",
        "\n",
        "  tmp = pd.DataFrame(tr.pw_alpha)\n",
        "  tmp.columns = tr.clone_df.id_nt.to_list()\n",
        "\n",
        "  tmp.to_csv(f\"tcrdist/{re.sub('.csv', '', i)}_tcrdistmatrix.csv\", index = True, compression = 'gzip')\n",
        "\n",
        "!tar -czvf tcrdist.tar.gz tcrdist\n",
        "files.download(\"/content/tcrdist.tar.gz\")"
      ],
      "metadata": {
        "colab": {
          "base_uri": "https://localhost:8080/",
          "height": 173
        },
        "id": "OxUqYWJfGSpV",
        "outputId": "8351df39-05b5-4b64-c8e1-cea97da066c3"
      },
      "execution_count": null,
      "outputs": [
        {
          "output_type": "stream",
          "name": "stderr",
          "text": [
            "/usr/local/lib/python3.12/dist-packages/tcrdist/repertoire.py:159: UserWarning: cell_df needs a counts column to track clonal number of frequency\n",
            "\n",
            "  self._validate_cell_df()\n",
            "/usr/local/lib/python3.12/dist-packages/tcrdist/repertoire.py:791: UserWarning: No 'count' column provided; count column set to 1\n",
            "  warnings.warn(\"No 'count' column provided; count column set to 1\")\n"
          ]
        },
        {
          "output_type": "stream",
          "name": "stdout",
          "text": [
            "tcrdist/\n",
            "tcrdist/0_complete-data_tcrdistmatrix.csv\n",
            "tcrdist/0_complete-data_pgens.csv\n"
          ]
        },
        {
          "output_type": "display_data",
          "data": {
            "text/plain": [
              "<IPython.core.display.Javascript object>"
            ],
            "application/javascript": [
              "\n",
              "    async function download(id, filename, size) {\n",
              "      if (!google.colab.kernel.accessAllowed) {\n",
              "        return;\n",
              "      }\n",
              "      const div = document.createElement('div');\n",
              "      const label = document.createElement('label');\n",
              "      label.textContent = `Downloading \"${filename}\": `;\n",
              "      div.appendChild(label);\n",
              "      const progress = document.createElement('progress');\n",
              "      progress.max = size;\n",
              "      div.appendChild(progress);\n",
              "      document.body.appendChild(div);\n",
              "\n",
              "      const buffers = [];\n",
              "      let downloaded = 0;\n",
              "\n",
              "      const channel = await google.colab.kernel.comms.open(id);\n",
              "      // Send a message to notify the kernel that we're ready.\n",
              "      channel.send({})\n",
              "\n",
              "      for await (const message of channel.messages) {\n",
              "        // Send a message to notify the kernel that we're ready.\n",
              "        channel.send({})\n",
              "        if (message.buffers) {\n",
              "          for (const buffer of message.buffers) {\n",
              "            buffers.push(buffer);\n",
              "            downloaded += buffer.byteLength;\n",
              "            progress.value = downloaded;\n",
              "          }\n",
              "        }\n",
              "      }\n",
              "      const blob = new Blob(buffers, {type: 'application/binary'});\n",
              "      const a = document.createElement('a');\n",
              "      a.href = window.URL.createObjectURL(blob);\n",
              "      a.download = filename;\n",
              "      div.appendChild(a);\n",
              "      a.click();\n",
              "      div.remove();\n",
              "    }\n",
              "  "
            ]
          },
          "metadata": {}
        },
        {
          "output_type": "display_data",
          "data": {
            "text/plain": [
              "<IPython.core.display.Javascript object>"
            ],
            "application/javascript": [
              "download(\"download_11edca24-69f5-4ed9-a7f5-d980e4a01708\", \"tcrdist.tar.gz\", 17715368)"
            ]
          },
          "metadata": {}
        }
      ]
    }
  ]
}